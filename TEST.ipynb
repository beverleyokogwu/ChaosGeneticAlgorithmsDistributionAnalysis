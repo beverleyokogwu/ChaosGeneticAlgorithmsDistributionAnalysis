{
 "cells": [
  {
   "cell_type": "code",
   "execution_count": 1,
   "metadata": {},
   "outputs": [],
   "source": [
    "array = []\n",
    "\n",
    "run = [1,22,3,55]\n",
    "\n",
    "array.append(run)"
   ]
  },
  {
   "cell_type": "code",
   "execution_count": 2,
   "metadata": {},
   "outputs": [
    {
     "name": "stdout",
     "output_type": "stream",
     "text": [
      "[[1, 22, 3, 55]]\n"
     ]
    }
   ],
   "source": [
    "print(array)"
   ]
  },
  {
   "cell_type": "code",
   "execution_count": 3,
   "metadata": {},
   "outputs": [],
   "source": [
    "run = [2,4,6]\n",
    "\n",
    "array.append(run)"
   ]
  },
  {
   "cell_type": "code",
   "execution_count": 4,
   "metadata": {},
   "outputs": [
    {
     "name": "stdout",
     "output_type": "stream",
     "text": [
      "[[1, 22, 3, 55], [2, 4, 6]]\n"
     ]
    }
   ],
   "source": [
    "print(array)\n"
   ]
  },
  {
   "cell_type": "code",
   "execution_count": 6,
   "metadata": {},
   "outputs": [
    {
     "name": "stdout",
     "output_type": "stream",
     "text": [
      "[[45, 5, 4, 450000], [45, 5, 4, 450000]]\n"
     ]
    }
   ],
   "source": [
    "array = []\n",
    "\n",
    "run = [1,22,3,55]\n",
    "\n",
    "array.append(run)\n",
    "#run = [2,4,6]\n",
    "run.clear()\n",
    "\n",
    "run.append(45)\n",
    "run.append(5)\n",
    "run.append(4)\n",
    "run.append(450000)\n",
    "\n",
    "array.append(run)\n",
    "print(array)"
   ]
  },
  {
   "cell_type": "code",
   "execution_count": null,
   "metadata": {},
   "outputs": [],
   "source": [
    "Using the reference to the run array because it doesn't know I've created a new one. It's using multiple copies of a referenece. So everytime I do an append, it's putting the reference into the array of arrays. So when I change, it's changing the reference."
   ]
  }
 ],
 "metadata": {
  "kernelspec": {
   "display_name": "Python 3",
   "language": "python",
   "name": "python3"
  },
  "language_info": {
   "codemirror_mode": {
    "name": "ipython",
    "version": 3
   },
   "file_extension": ".py",
   "mimetype": "text/x-python",
   "name": "python",
   "nbconvert_exporter": "python",
   "pygments_lexer": "ipython3",
   "version": "3.7.6"
  }
 },
 "nbformat": 4,
 "nbformat_minor": 4
}
